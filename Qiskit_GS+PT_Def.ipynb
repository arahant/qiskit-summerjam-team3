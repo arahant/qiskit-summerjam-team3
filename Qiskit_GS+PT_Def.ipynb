{
 "cells": [
  {
   "cell_type": "code",
   "execution_count": 12,
   "metadata": {},
   "outputs": [],
   "source": [
    "import numpy as np\n",
    "import matplotlib.pylab as py\n",
    "import matplotlib.pyplot as plt\n",
    "from qiskit.visualization import *\n",
    "from qiskit import *\n",
    "from qiskit.aqua import *\n",
    "from qiskit.quantum_info import *\n",
    "from qiskit.quantum_info.states import *\n",
    "from qiskit.circuit import QuantumCircuit, QuantumRegister, ClassicalRegister\n",
    "from qiskit_textbook.tools import array_to_latex\n",
    "from qiskit.extensions import RXGate, XGate, CXGate,IGate"
   ]
  },
  {
   "cell_type": "code",
   "execution_count": 15,
   "metadata": {},
   "outputs": [],
   "source": [
    "#Prepare Singlet Projector\n",
    "singlet_psi = Statevector.from_label('0+')-Statevector.from_label('+0')\n",
    "singlet_proj= singlet_psi.to_operator()\n",
    "#Prepare Triplet Projector\n",
    "i=Operator(IGate())\n",
    "i_op=i.expand(i)\n",
    "triplet_proj=i_op-singlet_proj"
   ]
  },
  {
   "cell_type": "code",
   "execution_count": 497,
   "metadata": {},
   "outputs": [],
   "source": [
    "def generate_permutations(values, occurrences):\n",
    "    if sum(occurrences) == 0:\n",
    "        yield []\n",
    "\n",
    "    for i, (v, o) in enumerate(zip(values, occurrences)):\n",
    "        if o > 0:\n",
    "            occurrences[i] -= 1\n",
    "            for p in generate_permutations(values, occurrences):\n",
    "                yield [v] + p\n",
    "            occurrences[i] += 1\n",
    "def compute_triplet_profile(projectors, state):\n",
    "\n",
    "    return [sum([expect(p, state) for p in ps]) for ps in projectors]\n",
    "\n",
    "def generate_projectors(site_number):\n",
    "    \n",
    "    return [\n",
    "        [\n",
    "            tensor(perm)\n",
    "            for perm in generate_permutations(\n",
    "                [singlet_proj, triplet_proj], [site_number // 2 - i, i]\n",
    "            )\n",
    "        ]\n",
    "        for i in range(site_number // 2 + 1)\n",
    "    ]\n"
   ]
  },
  {
   "cell_type": "code",
   "execution_count": 496,
   "metadata": {},
   "outputs": [
    {
     "data": {
      "text/latex": [
       "$\\displaystyle \n",
       "\\text{Circuit = }\n",
       "\\begin{bmatrix}\n",
       "0 & 0 & 0 & 1  \\\\\n",
       "0 & 0 & -1 & 0  \\\\\n",
       "0 & -1 & 0 & 0  \\\\\n",
       "1 & 0 & 0 & 0  \\\\\n",
       "\\end{bmatrix}\n",
       "$$\n",
       "$"
      ],
      "text/plain": [
       "<IPython.core.display.Math object>"
      ]
     },
     "metadata": {},
     "output_type": "display_data"
    }
   ],
   "source": [
    "#Define the Hamiltonian\n",
    "N=2\n",
    "J1=1\n",
    "J2=0.5\n",
    "\n",
    "q=QuantumRegister(N)\n",
    "c=ClassicalRegister(N)\n",
    "qc=QuantumCircuit(q,c)\n",
    "\n",
    "\n",
    "for i in range(0,N-1,1):\n",
    "    qc.cx(i,i+1)\n",
    "    qc.u1(J1*np.pi,i+1)\n",
    "    qc.cx(i,i+1)\n",
    "\n",
    "qc.barrier()\n",
    "for i in range(0,N-1,1):\n",
    "    qc.h(i)\n",
    "    qc.h(i+1)\n",
    "    qc.cx(i,i+1)\n",
    "    qc.u1(J1*np.pi,i+1)\n",
    "    qc.cx(i,i+1)\n",
    "    qc.h(i)\n",
    "    qc.h(i+1)\n",
    "\n",
    "#Nearest-neigbour interaction Z+X\n",
    "\"\"\"for i in range(0,N,2):\n",
    "    qc.cx(i,i+1)\n",
    "    qc.u1(J1*np.pi,i+1)\n",
    "    qc.u2(J1*np.pi,np.pi,i+1)\n",
    "    qc.cx(i,i+1)\n",
    "    \n",
    "for i in range(1,N-1,2):\n",
    "    qc.cx(i,i+1)\n",
    "    qc.u1(J1*np.pi,i+1)\n",
    "    qc.u2(J1*np.pi,np.pi,i+1)\n",
    "    qc.cx(i,i+1)\"\"\"\n",
    "\n",
    "backend = BasicAer.get_backend('unitary_simulator')\n",
    "job = execute(qc, backend)\n",
    "unitary=job.result().get_unitary(qc, decimals=3)\n",
    "array_to_latex(unitary, pretext=\"\\\\text{Circuit = }\\n\")\n",
    "\n",
    "#plt.plot(list(range(N // 2 + 1)),compute_triplet_profile(generate_projectors(N), gs[0]),label=f\"J2 ={round(J2,2)}\")\n",
    "#plt.xlabel('$m_{t}$')\n",
    "#plt.ylabel('$p(m_{t})$')\n",
    "#plt.legend()"
   ]
  },
  {
   "cell_type": "code",
   "execution_count": null,
   "metadata": {},
   "outputs": [],
   "source": []
  }
 ],
 "metadata": {
  "kernelspec": {
   "display_name": "Python 3",
   "language": "python",
   "name": "python3"
  },
  "language_info": {
   "codemirror_mode": {
    "name": "ipython",
    "version": 3
   },
   "file_extension": ".py",
   "mimetype": "text/x-python",
   "name": "python",
   "nbconvert_exporter": "python",
   "pygments_lexer": "ipython3",
   "version": "3.7.6"
  }
 },
 "nbformat": 4,
 "nbformat_minor": 4
}
