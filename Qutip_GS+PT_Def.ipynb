{
 "cells": [
  {
   "cell_type": "code",
   "execution_count": 1,
   "metadata": {},
   "outputs": [],
   "source": [
    "%matplotlib inline\n",
    "from qutip.qip.circuit import QubitCircuit\n",
    "from qutip.qip.operations import gate_sequence_product\n",
    "import numpy as np\n",
    "import matplotlib.pyplot as plt\n",
    "from qutip import *\n",
    "from typing import *\n",
    "from qutip.qip.device import CircularSpinChain, LinearSpinChain\n",
    "from qutip.qip.noise import RandomNoise\n",
    "from collections import Counter"
   ]
  },
  {
   "cell_type": "code",
   "execution_count": 25,
   "metadata": {},
   "outputs": [
    {
     "name": "stdout",
     "output_type": "stream",
     "text": [
      "Quantum object: dims = [[2, 2], [2, 2]], shape = (4, 4), type = oper, isherm = True\n",
      "Qobj data =\n",
      "[[ 0.   0.   0.   0. ]\n",
      " [ 0.   0.5 -0.5  0. ]\n",
      " [ 0.  -0.5  0.5  0. ]\n",
      " [ 0.   0.   0.   0. ]]\n"
     ]
    }
   ],
   "source": [
    "def generate_permutations(values, occurrences):\n",
    "    if sum(occurrences) == 0:\n",
    "        yield []\n",
    "\n",
    "    for i, (v, o) in enumerate(zip(values, occurrences)):\n",
    "        if o > 0:\n",
    "            occurrences[i] -= 1\n",
    "            for p in generate_permutations(values, occurrences):\n",
    "                yield [v] + p\n",
    "            occurrences[i] += 1\n",
    "            \n",
    "def compute_triplet_profile(projectors, state):\n",
    "\n",
    "    return [sum([expect(p, state) for p in ps]) for ps in projectors]\n",
    "\n",
    "def generate_projectors(site_number):\n",
    "    \n",
    "    return [\n",
    "        [\n",
    "            tensor(perm)\n",
    "            for perm in generate_permutations(\n",
    "                [singlet_projector, triplet_projector], [site_number // 2 - i, i]\n",
    "            )\n",
    "        ]\n",
    "        for i in range(site_number // 2 + 1)\n",
    "    ]\n",
    "\n",
    "\n",
    "singlet_projector = ((tensor(basis(2, 0), basis(2, 1)) - tensor(basis(2, 1), basis(2, 0))).unit().proj())\n",
    "triplet_projector = tensor(identity(2), identity(2)) - singlet_projector\n",
    "\n",
    "\n",
    "print(singlet_projector)"
   ]
  },
  {
   "cell_type": "code",
   "execution_count": 19,
   "metadata": {},
   "outputs": [
    {
     "name": "stdout",
     "output_type": "stream",
     "text": [
      "Quantum object: dims = [[2, 2], [2, 2]], shape = (4, 4), type = oper, isherm = True\n",
      "Qobj data =\n",
      "[[ 1.  0.  0.  1.]\n",
      " [ 0. -1.  1.  0.]\n",
      " [ 0.  1. -1.  0.]\n",
      " [ 1.  0.  0.  1.]]\n"
     ]
    }
   ],
   "source": [
    "N=2\n",
    "J1=1\n",
    "si = qeye(2)\n",
    "sx = sigmax()\n",
    "sy = sigmay()\n",
    "sz = sigmaz()\n",
    "sx_list = []\n",
    "sy_list = []\n",
    "sz_list = []\n",
    "\n",
    "\n",
    "for n in range(N):\n",
    "        op_list = [si for m in range(N)]\n",
    "        op_list[n] = sx\n",
    "        sx_list.append(tensor(op_list))\n",
    "        op_list[n] = sy\n",
    "        sy_list.append(tensor(op_list))\n",
    "        op_list[n] = sz\n",
    "        sz_list.append(tensor(op_list))\n",
    "H = 0\n",
    "for n in range(N-1):\n",
    "        H += J1 * sx_list[n] * sx_list[n+1]\n",
    "        #H += J1 * sy_list[n] * sy_list[n+1]\n",
    "        H += J1 * sz_list[n] * sz_list[n+1]\n",
    "\n",
    "\n",
    "print(H)"
   ]
  },
  {
   "cell_type": "code",
   "execution_count": 27,
   "metadata": {},
   "outputs": [
    {
     "name": "stderr",
     "output_type": "stream",
     "text": [
      "WARNING:matplotlib.legend:No handles with labels found to put in legend.\n",
      "WARNING:matplotlib.legend:No handles with labels found to put in legend.\n",
      "WARNING:matplotlib.legend:No handles with labels found to put in legend.\n",
      "WARNING:matplotlib.legend:No handles with labels found to put in legend.\n",
      "WARNING:matplotlib.legend:No handles with labels found to put in legend.\n",
      "WARNING:matplotlib.legend:No handles with labels found to put in legend.\n"
     ]
    },
    {
     "name": "stdout",
     "output_type": "stream",
     "text": [
      "Quantum object: dims = [[2, 2], [2, 2]], shape = (4, 4), type = oper, isherm = True\n",
      "Qobj data =\n",
      "[[ 1.  0.  0.  1.]\n",
      " [ 0. -1.  1.  0.]\n",
      " [ 0.  1. -1.  0.]\n",
      " [ 1.  0.  0.  1.]]\n",
      "[Quantum object: dims = [[2, 2], [1, 1]], shape = (4, 1), type = ket\n",
      "Qobj data =\n",
      "[[ 0.        ]\n",
      " [-0.70710678]\n",
      " [ 0.70710678]\n",
      " [ 0.        ]]]\n"
     ]
    },
    {
     "data": {
      "image/png": "[encoded data removed]",
      "text/plain": [
       "<Figure size 900x600 with 1 Axes>"
      ]
     },
     "metadata": {
      "needs_background": "light"
     },
     "output_type": "display_data"
    }
   ],
   "source": [
    "plt.figure(dpi=150)\n",
    "plt.grid()\n",
    "for i in np.arange(0,0.6,0.1):\n",
    "    N=2\n",
    "    J1=1\n",
    "    J2=i\n",
    "    si = qeye(2)\n",
    "    sx = sigmax()\n",
    "    sy = sigmay()\n",
    "    sz = sigmaz()\n",
    "    sx_list = []\n",
    "    sy_list = []\n",
    "    sz_list = []\n",
    "\n",
    "    for n in range(N):\n",
    "            op_list = [si for m in range(N)]\n",
    "            op_list[n] = sx\n",
    "            sx_list.append(tensor(op_list))\n",
    "            #op_list[n] = sy\n",
    "            #sy_list.append(tensor(op_list))\n",
    "            op_list[n] = sz\n",
    "            sz_list.append(tensor(op_list))\n",
    "    H = 0\n",
    "    for n in range(N-1):\n",
    "            H += J1 * sx_list[n] * sx_list[n+1]\n",
    "            #H += J1 * sy_list[n] * sy_list[n+1]\n",
    "            H += J1 * sz_list[n] * sz_list[n+1]\n",
    "    for n in range(N-2):\n",
    "            H += J2 * sx_list[n] * sx_list[n+2]\n",
    "            #H += J2 * sy_list[n] * sy_list[n+2]\n",
    "            H += J2 * sz_list[n] * sz_list[n+2]\n",
    "\n",
    "    #Periodic BC\n",
    "    #H += J1 * sx_list[N-1] * sx_list[0]\n",
    "    #H += J1 * sy_list[N-1] * sy_list[0]\n",
    "    #H += J1 * sz_list[N-1] * sz_list[0]\n",
    "    #H += J2 * sx_list[N-2] * sx_list[0]\n",
    "    #H += J2 * sy_list[N-2] * sy_list[0]\n",
    "    #H += J2 * sz_list[N-2] * sz_list[0]\n",
    "\n",
    "    #Identify degenracy of GS Energy\n",
    "    #print(H)\n",
    "    gs_energy=min(H.eigenenergies())\n",
    "\n",
    "    gs_energy_dict = dict(Counter(H.eigenenergies()))\n",
    "\n",
    "    num_gs_energies=gs_energy_dict[gs_energy]    \n",
    "\n",
    "    #Create GS Array of       \n",
    "    gs=[]\n",
    "    for i in range (0,num_gs_energies):\n",
    "        state=H.eigenstates()[1][i]\n",
    "        gs.append(state)\n",
    "\n",
    "    #plt.plot(list(range(N // 2 + 1)),compute_triplet_profile(generate_projectors(N), gs[0]),label=f\"J2 ={round(J2,2)}\")\n",
    "    plt.xlabel('$m_{t}$')\n",
    "    plt.ylabel('$p(m_{t})$')\n",
    "    plt.legend()\n",
    "    \n",
    "print(H)\n",
    "print(gs)"
   ]
  },
  {
   "cell_type": "code",
   "execution_count": 77,
   "metadata": {},
   "outputs": [
    {
     "data": {
      "text/plain": [
       "[<matplotlib.lines.Line2D at 0x7fcc014543d0>]"
      ]
     },
     "execution_count": 77,
     "metadata": {},
     "output_type": "execute_result"
    },
    {
     "data": {
      "image/png": "[encoded data removed]",
      "text/plain": [
       "<Figure size 900x600 with 1 Axes>"
      ]
     },
     "metadata": {
      "needs_background": "light"
     },
     "output_type": "display_data"
    }
   ],
   "source": [
    "plt.figure(dpi=150)\n",
    "plt.grid()\n",
    "mt_3=[]\n",
    "J2_val=[]\n",
    "for i in np.arange(0,0.6,0.1):\n",
    "    N=10\n",
    "    J1=1\n",
    "    J2=i\n",
    "    si = qeye(2)\n",
    "    sx = sigmax()\n",
    "    #sy = sigmay()\n",
    "    sz = sigmaz()\n",
    "    sx_list = []\n",
    "    #sy_list = []\n",
    "    sz_list = []\n",
    "\n",
    "    for n in range(N):\n",
    "            op_list = [si for m in range(N)]\n",
    "            op_list[n] = sx\n",
    "            sx_list.append(tensor(op_list))\n",
    "            #op_list[n] = sy\n",
    "            #sy_list.append(tensor(op_list))\n",
    "            op_list[n] = sz\n",
    "            sz_list.append(tensor(op_list))\n",
    "    H = 0\n",
    "    for n in range(N-1):\n",
    "            H += J1 * sx_list[n] * sx_list[n+1]\n",
    "            #H += J1 * sy_list[n] * sy_list[n+1]\n",
    "            H += J1 * sz_list[n] * sz_list[n+1]\n",
    "    for n in range(N-2):\n",
    "            H += J2 * sx_list[n] * sx_list[n+2]\n",
    "            #H += J2 * sy_list[n] * sy_list[n+2]\n",
    "            H += J2 * sz_list[n] * sz_list[n+2]\n",
    "\n",
    "    #Periodic BC\n",
    "    H += J1 * sx_list[N-1] * sx_list[0]\n",
    "    #H += J1 * sy_list[N-1] * sy_list[0]\n",
    "    H += J1 * sz_list[N-1] * sz_list[0]\n",
    "    H += J2 * sx_list[N-2] * sx_list[0]\n",
    "    #H += J2 * sy_list[N-2] * sy_list[0]\n",
    "    H += J2 * sz_list[N-2] * sz_list[0]\n",
    "\n",
    "    #Identify degenracy of GS Energy\n",
    "    gs_energy=min(H.eigenenergies())\n",
    "\n",
    "    gs_energy_dict = dict(Counter(H.eigenenergies()))\n",
    "\n",
    "    num_gs_energies=gs_energy_dict[gs_energy]    \n",
    "\n",
    "    #Create GS Array of       \n",
    "    gs=[]\n",
    "    for i in range (0,num_gs_energies):\n",
    "        state=H.eigenstates()[1][i]\n",
    "        gs.append(state)\n",
    "\n",
    "    mt_3.append(compute_triplet_profile(generate_projectors(N), gs[0])[2])\n",
    "    J2_val.append(J2)\n",
    "\n",
    "plt.plot(J2_val,mt_3)"
   ]
  },
  {
   "cell_type": "code",
   "execution_count": 66,
   "metadata": {},
   "outputs": [
    {
     "name": "stdout",
     "output_type": "stream",
     "text": [
      "[0.5080451335485052, 4.721284437917603e-16, 0.12165607400852416, 0.13211796201097775, 0.16220102207841078, 0.07597980835358147]\n"
     ]
    }
   ],
   "source": []
  },
  {
   "cell_type": "code",
   "execution_count": null,
   "metadata": {},
   "outputs": [],
   "source": []
  },
  {
   "cell_type": "code",
   "execution_count": null,
   "metadata": {},
   "outputs": [],
   "source": []
  },
  {
   "cell_type": "code",
   "execution_count": null,
   "metadata": {},
   "outputs": [],
   "source": []
  },
  {
   "cell_type": "code",
   "execution_count": null,
   "metadata": {},
   "outputs": [],
   "source": []
  },
  {
   "cell_type": "code",
   "execution_count": 30,
   "metadata": {},
   "outputs": [
    {
     "name": "stdout",
     "output_type": "stream",
     "text": [
      "[1, 1, 1, 1, 1, 1, 1, 1, 1, 1, 1]\n"
     ]
    },
    {
     "data": {
      "text/plain": [
       "[<matplotlib.lines.Line2D at 0x7fcfc870d850>]"
      ]
     },
     "execution_count": 30,
     "metadata": {},
     "output_type": "execute_result"
    },
    {
     "data": {
      "image/png": "[encoded data removed]",
      "text/plain": [
       "<Figure size 432x288 with 1 Axes>"
      ]
     },
     "metadata": {
      "needs_background": "light"
     },
     "output_type": "display_data"
    }
   ],
   "source": [
    "num_gs=[]\n",
    "J2_val=[]\n",
    "for i in np.arange(0,1.1,0.1):\n",
    "    N=10\n",
    "    J1=1\n",
    "    J2=i\n",
    "    si = qeye(2)\n",
    "    sx = sigmax()\n",
    "    #sy = sigmay()\n",
    "    sz = sigmaz()\n",
    "    sx_list = []\n",
    "    #sy_list = []\n",
    "    sz_list = []\n",
    "    J2_val.append(i)\n",
    "    for n in range(N):\n",
    "            op_list = [si for m in range(N)]\n",
    "            op_list[n] = sx\n",
    "            sx_list.append(tensor(op_list))\n",
    "            #op_list[n] = sy\n",
    "            #sy_list.append(tensor(op_list))\n",
    "            op_list[n] = sz\n",
    "            sz_list.append(tensor(op_list))\n",
    "    H = 0\n",
    "    for n in range(N-1):\n",
    "            H += J1 * sx_list[n] * sx_list[n+1]\n",
    "            #H += J1 * sy_list[n] * sy_list[n+1]\n",
    "            H += J1 * sz_list[n] * sz_list[n+1]\n",
    "\n",
    "    #for n in range(N-2):\n",
    "            #H += J2 * sx_list[n] * sx_list[n+2]\n",
    "            #H += J2 * sy_list[n] * sy_list[n+2]\n",
    "            #H += J2 * sz_list[n] * sz_list[n+2]\n",
    "\n",
    "\n",
    "    #Identify degenracy of GS Energy\n",
    "    gs_energy=min(H.eigenenergies())\n",
    "    gs_energy_dict = dict(Counter(H.eigenenergies()))\n",
    "\n",
    "    num_gs_energies=gs_energy_dict[gs_energy] \n",
    "    num_gs.append(num_gs_energies)\n",
    "\n",
    "print(num_gs)\n",
    "plt.plot(J2_val,num_gs)"
   ]
  },
  {
   "cell_type": "code",
   "execution_count": null,
   "metadata": {},
   "outputs": [],
   "source": []
  }
 ],
 "metadata": {
  "kernelspec": {
   "display_name": "Python 3",
   "language": "python",
   "name": "python3"
  },
  "language_info": {
   "codemirror_mode": {
    "name": "ipython",
    "version": 3
   },
   "file_extension": ".py",
   "mimetype": "text/x-python",
   "name": "python",
   "nbconvert_exporter": "python",
   "pygments_lexer": "ipython3",
   "version": "3.7.6"
  }
 },
 "nbformat": 4,
 "nbformat_minor": 4
}
